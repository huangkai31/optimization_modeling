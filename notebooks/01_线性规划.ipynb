{
 "cells": [
  {
   "cell_type": "code",
   "execution_count": 1,
   "metadata": {},
   "outputs": [],
   "source": [
    "import  pyomo.environ as pyo\n",
    "import pandas as pd"
   ]
  },
  {
   "cell_type": "code",
   "execution_count": null,
   "metadata": {},
   "outputs": [],
   "source": [
    "model = pyo.ConcreteModel()\n",
    "\n",
    "# declare decision variables\n",
    "model.x = pyo.Var(domain=pyo.NonNegativeReals)\n",
    "\n",
    "# declare objective\n",
    "model.profit = pyo.Objective(\n",
    "    expr = 40*model.x,\n",
    "    sense = pyo.maximize)\n",
    "\n",
    "# declare constraints\n",
    "model.demand = pyo.Constraint(expr = model.x <= 40)\n",
    "model.laborA = pyo.Constraint(expr = model.x <= 80)\n",
    "model.laborB = pyo.Constraint(expr = 2*model.x <= 100)\n",
    "\n",
    "# solve\n",
    "pyo.SolverFactory('ipopt').solve(model).write()"
   ]
  },
  {
   "cell_type": "code",
   "execution_count": 6,
   "metadata": {},
   "outputs": [
    {
     "name": "stdout",
     "output_type": "stream",
     "text": [
      "profit : Size=1, Index=None, Active=True\n",
      "    Key  : Active : Value\n",
      "    None :   True : 1600.0000159974938\n",
      "x : Size=1, Index=None\n",
      "    Key  : Lower : Value             : Upper : Fixed : Stale : Domain\n",
      "    None :     0 : 40.00000039993735 :  None : False : False : NonNegativeReals\n"
     ]
    }
   ],
   "source": [
    "model.profit.display()\n",
    "model.x.display()"
   ]
  },
  {
   "cell_type": "code",
   "execution_count": 8,
   "metadata": {},
   "outputs": [
    {
     "data": {
      "text/plain": [
       "1600.0000159974938"
      ]
     },
     "execution_count": 8,
     "metadata": {},
     "output_type": "execute_result"
    }
   ],
   "source": [
    "model.profit()"
   ]
  },
  {
   "cell_type": "code",
   "execution_count": 3,
   "metadata": {},
   "outputs": [
    {
     "data": {
      "text/html": [
       "<div>\n",
       "<style scoped>\n",
       "    .dataframe tbody tr th:only-of-type {\n",
       "        vertical-align: middle;\n",
       "    }\n",
       "\n",
       "    .dataframe tbody tr th {\n",
       "        vertical-align: top;\n",
       "    }\n",
       "\n",
       "    .dataframe thead th {\n",
       "        text-align: right;\n",
       "    }\n",
       "</style>\n",
       "<table border=\"1\" class=\"dataframe\">\n",
       "  <thead>\n",
       "    <tr style=\"text-align: right;\">\n",
       "      <th></th>\n",
       "      <th>原料</th>\n",
       "      <th>酒精含量</th>\n",
       "      <th>成本</th>\n",
       "    </tr>\n",
       "  </thead>\n",
       "  <tbody>\n",
       "    <tr>\n",
       "      <th>0</th>\n",
       "      <td>A</td>\n",
       "      <td>0.045</td>\n",
       "      <td>0.32</td>\n",
       "    </tr>\n",
       "    <tr>\n",
       "      <th>1</th>\n",
       "      <td>B</td>\n",
       "      <td>0.037</td>\n",
       "      <td>0.25</td>\n",
       "    </tr>\n",
       "    <tr>\n",
       "      <th>2</th>\n",
       "      <td>水</td>\n",
       "      <td>0.000</td>\n",
       "      <td>0.05</td>\n",
       "    </tr>\n",
       "  </tbody>\n",
       "</table>\n",
       "</div>"
      ],
      "text/plain": [
       "  原料   酒精含量    成本\n",
       "0  A  0.045  0.32\n",
       "1  B  0.037  0.25\n",
       "2  水  0.000  0.05"
      ]
     },
     "execution_count": 3,
     "metadata": {},
     "output_type": "execute_result"
    }
   ],
   "source": [
    "df = pd.DataFrame({'原料': {0: 'A', 1: 'B', 2: '水'}, '酒精含量': {0: 0.045, 1: 0.037, 2: 0.0}, '成本': {0: 0.32, 1: 0.25, 2: 0.05}})\n",
    "edited_df = df\n",
    "df"
   ]
  },
  {
   "cell_type": "code",
   "execution_count": 8,
   "metadata": {},
   "outputs": [
    {
     "data": {
      "text/plain": [
       "{'A': {'原料': 'A', '酒精含量': 0.045, '成本': 0.32},\n",
       " 'B': {'原料': 'B', '酒精含量': 0.037, '成本': 0.25},\n",
       " '水': {'原料': '水', '酒精含量': 0.0, '成本': 0.05}}"
      ]
     },
     "execution_count": 8,
     "metadata": {},
     "output_type": "execute_result"
    }
   ],
   "source": [
    "materials ={}\n",
    "for r in edited_df.to_dict(orient='records'):\n",
    "    materials[r['原料']] = r\n",
    "materials"
   ]
  },
  {
   "cell_type": "code",
   "execution_count": null,
   "metadata": {},
   "outputs": [],
   "source": []
  }
 ],
 "metadata": {
  "kernelspec": {
   "display_name": "Python 3.8.10 ('venv': venv)",
   "language": "python",
   "name": "python3"
  },
  "language_info": {
   "codemirror_mode": {
    "name": "ipython",
    "version": 3
   },
   "file_extension": ".py",
   "mimetype": "text/x-python",
   "name": "python",
   "nbconvert_exporter": "python",
   "pygments_lexer": "ipython3",
   "version": "3.10.13"
  },
  "orig_nbformat": 4,
  "vscode": {
   "interpreter": {
    "hash": "17fbacbf3e036da2207ce4c3f7f5f97867cd4811f4430fac9793be4534b9c232"
   }
  }
 },
 "nbformat": 4,
 "nbformat_minor": 2
}
